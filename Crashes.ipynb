{
 "cells": [
  {
   "cell_type": "markdown",
   "metadata": {},
   "source": [
    "初始化"
   ]
  },
  {
   "cell_type": "code",
   "execution_count": 1,
   "metadata": {
    "pycharm": {
     "is_executing": false
    }
   },
   "outputs": [],
   "source": [
    "omega = {1, 2, 3, 4, 5, 6, 7, 8, 9}\n",
    "E = {1, 5, 9}\n",
    "A1 = {1, 2, 3}\n",
    "A2 = {4, 5, 6}\n",
    "A3 = {7, 8, 9}\n",
    "\n",
    "B1 = {1, 2, 3, 4}\n",
    "B2 = {5, 6, 7, 8}\n",
    "B3 = {9}\n",
    "w0 = 1\n",
    "\n",
    "AliceAction = 0 # 0 stands for selling 1 stands for buying\n",
    "BobAction = 0"
   ]
  },
  {
   "cell_type": "markdown",
   "metadata": {},
   "source": [
    "Day 1"
   ]
  },
  {
   "cell_type": "code",
   "execution_count": 2,
   "metadata": {},
   "outputs": [
    {
     "data": {
      "text/plain": [
       "{1, 2, 3}"
      ]
     },
     "execution_count": 2,
     "metadata": {},
     "output_type": "execute_result"
    }
   ],
   "source": [
    "A1&omega"
   ]
  },
  {
   "cell_type": "code",
   "execution_count": 3,
   "metadata": {},
   "outputs": [
    {
     "data": {
      "text/plain": [
       "{1}"
      ]
     },
     "execution_count": 3,
     "metadata": {},
     "output_type": "execute_result"
    }
   ],
   "source": [
    "E&A1&omega"
   ]
  },
  {
   "cell_type": "code",
   "execution_count": 4,
   "metadata": {},
   "outputs": [
    {
     "data": {
      "text/plain": [
       "0.3333333333333333"
      ]
     },
     "execution_count": 4,
     "metadata": {},
     "output_type": "execute_result"
    }
   ],
   "source": [
    "len(E&A1&omega)/len(A1&omega)"
   ]
  },
  {
   "cell_type": "code",
   "execution_count": 5,
   "metadata": {},
   "outputs": [
    {
     "name": "stdout",
     "output_type": "stream",
     "text": [
      "0.3333333333333333\n",
      "0.3333333333333333\n",
      "0.3333333333333333\n",
      "0.25\n",
      "0.25\n",
      "1.0\n"
     ]
    }
   ],
   "source": [
    "P_E_A1 = len(E&A1&omega)/len(A1&omega)\n",
    "P_E_A2 = len(E&A2&omega)/len(A2&omega)\n",
    "P_E_A3 = len(E&A3&omega)/len(A3&omega)\n",
    "\n",
    "P_E_B1 = len(E&B1&omega)/len(B1&omega)\n",
    "P_E_B2 = len(E&B2&omega)/len(B2&omega)\n",
    "P_E_B3 = len(E&B3&omega)/len(B3&omega)\n",
    "print(P_E_A1)\n",
    "print(P_E_A2)\n",
    "print(P_E_A3)\n",
    "print(P_E_B1)\n",
    "print(P_E_B2)\n",
    "print(P_E_B3)"
   ]
  },
  {
   "cell_type": "markdown",
   "metadata": {},
   "source": [
    "w0 = 1"
   ]
  },
  {
   "cell_type": "code",
   "execution_count": 6,
   "metadata": {},
   "outputs": [
    {
     "name": "stdout",
     "output_type": "stream",
     "text": [
      "Alice sells the asset!\n",
      "Bob buys the asset!\n"
     ]
    }
   ],
   "source": [
    "P_E_A = P_E_A1 \n",
    "P_E_B = P_E_B1\n",
    "if P_E_A >= 0.3:\n",
    "    print(\"Alice sells the asset!\")\n",
    "    AliceAction = 0\n",
    "else:\n",
    "    print(\"Alice buys the asset!\")\n",
    "    AliceAction = 1\n",
    "if P_E_B >= 0.3:\n",
    "    print(\"Bob sells the asset!\")\n",
    "    BobAction = 0\n",
    "else:\n",
    "    print(\"Bob buys the asset!\")\n",
    "    BobAction = 1"
   ]
  },
  {
   "cell_type": "markdown",
   "metadata": {},
   "source": [
    "Day2"
   ]
  },
  {
   "cell_type": "code",
   "execution_count": 7,
   "metadata": {},
   "outputs": [
    {
     "data": {
      "text/plain": [
       "{5, 6, 7, 8, 9}"
      ]
     },
     "execution_count": 7,
     "metadata": {},
     "output_type": "execute_result"
    }
   ],
   "source": [
    "omega - B1 "
   ]
  },
  {
   "cell_type": "code",
   "execution_count": 8,
   "metadata": {},
   "outputs": [
    {
     "data": {
      "text/plain": [
       "{1, 2, 3, 4, 5, 6, 7, 8}"
      ]
     },
     "execution_count": 8,
     "metadata": {},
     "output_type": "execute_result"
    }
   ],
   "source": [
    "if BobAction == 0:\n",
    "    if P_E_B1 < 0.3:\n",
    "        omega = omega - B1\n",
    "    if P_E_B2 < 0.3:\n",
    "        omega = omega - B2\n",
    "    if P_E_B3 < 0.3:\n",
    "        omega = omega - B3\n",
    "else:\n",
    "    if P_E_B1 >= 0.3:\n",
    "        omega = omega - B1\n",
    "    if P_E_B2 >= 0.3:\n",
    "        omega = omega - B2\n",
    "    if P_E_B3 >= 0.3:\n",
    "        omega = omega - B3\n",
    "\n",
    "if AliceAction == 0:\n",
    "    if P_E_A1 < 0.3:\n",
    "        omega = omega - A1\n",
    "    if P_E_A2 < 0.3:\n",
    "        omega = omega - A2\n",
    "    if P_E_A3 < 0.3:\n",
    "        omega = omega - A3\n",
    "else:\n",
    "    if P_E_A1 >= 0.3:\n",
    "        omega = omega - A1\n",
    "    if P_E_A2 >= 0.3:\n",
    "        omega = omega - A2\n",
    "    if P_E_A3 >= 0.3:\n",
    "        omega = omega - A3\n",
    "        \n",
    "omega"
   ]
  },
  {
   "cell_type": "code",
   "execution_count": 9,
   "metadata": {},
   "outputs": [
    {
     "name": "stdout",
     "output_type": "stream",
     "text": [
      "0.3333333333333333\n",
      "0.3333333333333333\n",
      "0.0\n",
      "0.25\n",
      "0.25\n",
      "0\n"
     ]
    }
   ],
   "source": [
    "P_E_A1 = len(E&A1&omega)/len(A1&omega) if len(A1&omega) > 0 else 0\n",
    "P_E_A2 = len(E&A2&omega)/len(A2&omega) if len(A2&omega) > 0 else 0\n",
    "P_E_A3 = len(E&A3&omega)/len(A3&omega) if len(A3&omega) > 0 else 0\n",
    "\n",
    "P_E_B1 = len(E&B1&omega)/len(B1&omega) if len(B1&omega) > 0 else 0\n",
    "P_E_B2 = len(E&B2&omega)/len(B2&omega) if len(B2&omega) > 0 else 0\n",
    "P_E_B3 = len(E&B3&omega)/len(B3&omega) if len(B3&omega) > 0 else 0\n",
    "print(P_E_A1)\n",
    "print(P_E_A2)\n",
    "print(P_E_A3)\n",
    "print(P_E_B1)\n",
    "print(P_E_B2)\n",
    "print(P_E_B3)"
   ]
  },
  {
   "cell_type": "code",
   "execution_count": 10,
   "metadata": {},
   "outputs": [
    {
     "name": "stdout",
     "output_type": "stream",
     "text": [
      "Alice sells the asset!\n",
      "Bob buys the asset!\n"
     ]
    }
   ],
   "source": [
    "P_E_A = P_E_A1 \n",
    "P_E_B = P_E_B1\n",
    "if P_E_A >= 0.3:\n",
    "    print(\"Alice sells the asset!\")\n",
    "    AliceAction = 0\n",
    "else:\n",
    "    print(\"Alice buys the asset!\")\n",
    "    AliceAction = 1\n",
    "if P_E_B >= 0.3:\n",
    "    print(\"Bob sells the asset!\")\n",
    "    BobAction = 0\n",
    "else:\n",
    "    print(\"Bob buys the asset!\")\n",
    "    BobAction = 1"
   ]
  },
  {
   "cell_type": "markdown",
   "metadata": {},
   "source": [
    "Day3"
   ]
  },
  {
   "cell_type": "code",
   "execution_count": 11,
   "metadata": {},
   "outputs": [
    {
     "data": {
      "text/plain": [
       "{1, 2, 3, 4, 5, 6}"
      ]
     },
     "execution_count": 11,
     "metadata": {},
     "output_type": "execute_result"
    }
   ],
   "source": [
    "if BobAction == 0:\n",
    "    if P_E_B1 < 0.3:\n",
    "        omega = omega - B1\n",
    "    if P_E_B2 < 0.3:\n",
    "        omega = omega - B2\n",
    "    if P_E_B3 < 0.3:\n",
    "        omega = omega - B3\n",
    "else:\n",
    "    if P_E_B1 >= 0.3:\n",
    "        omega = omega - B1\n",
    "    if P_E_B2 >= 0.3:\n",
    "        omega = omega - B2\n",
    "    if P_E_B3 >= 0.3:\n",
    "        omega = omega - B3\n",
    "\n",
    "if AliceAction == 0:\n",
    "    if P_E_A1 < 0.3:\n",
    "        omega = omega - A1\n",
    "    if P_E_A2 < 0.3:\n",
    "        omega = omega - A2\n",
    "    if P_E_A3 < 0.3:\n",
    "        omega = omega - A3\n",
    "else:\n",
    "    if P_E_A1 >= 0.3:\n",
    "        omega = omega - A1\n",
    "    if P_E_A2 >= 0.3:\n",
    "        omega = omega - A2\n",
    "    if P_E_A3 >= 0.3:\n",
    "        omega = omega - A3\n",
    "        \n",
    "omega"
   ]
  },
  {
   "cell_type": "code",
   "execution_count": 12,
   "metadata": {},
   "outputs": [
    {
     "name": "stdout",
     "output_type": "stream",
     "text": [
      "0.3333333333333333\n",
      "0.3333333333333333\n",
      "0\n",
      "0.25\n",
      "0.5\n",
      "0\n"
     ]
    }
   ],
   "source": [
    "P_E_A1 = len(E&A1&omega)/len(A1&omega) if len(A1&omega) > 0 else 0\n",
    "P_E_A2 = len(E&A2&omega)/len(A2&omega) if len(A2&omega) > 0 else 0\n",
    "P_E_A3 = len(E&A3&omega)/len(A3&omega) if len(A3&omega) > 0 else 0\n",
    "\n",
    "P_E_B1 = len(E&B1&omega)/len(B1&omega) if len(B1&omega) > 0 else 0\n",
    "P_E_B2 = len(E&B2&omega)/len(B2&omega) if len(B2&omega) > 0 else 0\n",
    "P_E_B3 = len(E&B3&omega)/len(B3&omega) if len(B3&omega) > 0 else 0\n",
    "print(P_E_A1)\n",
    "print(P_E_A2)\n",
    "print(P_E_A3)\n",
    "print(P_E_B1)\n",
    "print(P_E_B2)\n",
    "print(P_E_B3)"
   ]
  },
  {
   "cell_type": "code",
   "execution_count": 13,
   "metadata": {},
   "outputs": [
    {
     "name": "stdout",
     "output_type": "stream",
     "text": [
      "Alice sells the asset!\n",
      "Bob buys the asset!\n"
     ]
    }
   ],
   "source": [
    "P_E_A = P_E_A1 \n",
    "P_E_B = P_E_B1\n",
    "if P_E_A >= 0.3:\n",
    "    print(\"Alice sells the asset!\")\n",
    "    AliceAction = 0\n",
    "else:\n",
    "    print(\"Alice buys the asset!\")\n",
    "    AliceAction = 1\n",
    "if P_E_B >= 0.3:\n",
    "    print(\"Bob sells the asset!\")\n",
    "    BobAction = 0\n",
    "else:\n",
    "    print(\"Bob buys the asset!\")\n",
    "    BobAction = 1"
   ]
  },
  {
   "cell_type": "markdown",
   "metadata": {},
   "source": [
    "Day4"
   ]
  },
  {
   "cell_type": "code",
   "execution_count": 14,
   "metadata": {},
   "outputs": [
    {
     "data": {
      "text/plain": [
       "{1, 2, 3, 4}"
      ]
     },
     "execution_count": 14,
     "metadata": {},
     "output_type": "execute_result"
    }
   ],
   "source": [
    "if BobAction == 0:\n",
    "    if P_E_B1 < 0.3:\n",
    "        omega = omega - B1\n",
    "    if P_E_B2 < 0.3:\n",
    "        omega = omega - B2\n",
    "    if P_E_B3 < 0.3:\n",
    "        omega = omega - B3\n",
    "else:\n",
    "    if P_E_B1 >= 0.3:\n",
    "        omega = omega - B1\n",
    "    if P_E_B2 >= 0.3:\n",
    "        omega = omega - B2\n",
    "    if P_E_B3 >= 0.3:\n",
    "        omega = omega - B3\n",
    "\n",
    "if AliceAction == 0:\n",
    "    if P_E_A1 < 0.3:\n",
    "        omega = omega - A1\n",
    "    if P_E_A2 < 0.3:\n",
    "        omega = omega - A2\n",
    "    if P_E_A3 < 0.3:\n",
    "        omega = omega - A3\n",
    "else:\n",
    "    if P_E_A1 >= 0.3:\n",
    "        omega = omega - A1\n",
    "    if P_E_A2 >= 0.3:\n",
    "        omega = omega - A2\n",
    "    if P_E_A3 >= 0.3:\n",
    "        omega = omega - A3\n",
    "        \n",
    "omega"
   ]
  },
  {
   "cell_type": "code",
   "execution_count": 15,
   "metadata": {},
   "outputs": [
    {
     "name": "stdout",
     "output_type": "stream",
     "text": [
      "0.3333333333333333\n",
      "0.0\n",
      "0\n",
      "0.25\n",
      "0\n",
      "0\n"
     ]
    }
   ],
   "source": [
    "P_E_A1 = len(E&A1&omega)/len(A1&omega) if len(A1&omega) > 0 else 0\n",
    "P_E_A2 = len(E&A2&omega)/len(A2&omega) if len(A2&omega) > 0 else 0\n",
    "P_E_A3 = len(E&A3&omega)/len(A3&omega) if len(A3&omega) > 0 else 0\n",
    "\n",
    "P_E_B1 = len(E&B1&omega)/len(B1&omega) if len(B1&omega) > 0 else 0\n",
    "P_E_B2 = len(E&B2&omega)/len(B2&omega) if len(B2&omega) > 0 else 0\n",
    "P_E_B3 = len(E&B3&omega)/len(B3&omega) if len(B3&omega) > 0 else 0\n",
    "print(P_E_A1)\n",
    "print(P_E_A2)\n",
    "print(P_E_A3)\n",
    "print(P_E_B1)\n",
    "print(P_E_B2)\n",
    "print(P_E_B3)"
   ]
  },
  {
   "cell_type": "code",
   "execution_count": 16,
   "metadata": {},
   "outputs": [
    {
     "name": "stdout",
     "output_type": "stream",
     "text": [
      "Alice sells the asset!\n",
      "Bob buys the asset!\n"
     ]
    }
   ],
   "source": [
    "P_E_A = P_E_A1 \n",
    "P_E_B = P_E_B1\n",
    "if P_E_A >= 0.3:\n",
    "    print(\"Alice sells the asset!\")\n",
    "    AliceAction = 0\n",
    "else:\n",
    "    print(\"Alice buys the asset!\")\n",
    "    AliceAction = 1\n",
    "if P_E_B >= 0.3:\n",
    "    print(\"Bob sells the asset!\")\n",
    "    BobAction = 0\n",
    "else:\n",
    "    print(\"Bob buys the asset!\")\n",
    "    BobAction = 1"
   ]
  },
  {
   "cell_type": "markdown",
   "metadata": {},
   "source": [
    "Day5"
   ]
  },
  {
   "cell_type": "code",
   "execution_count": 17,
   "metadata": {},
   "outputs": [
    {
     "data": {
      "text/plain": [
       "{1, 2, 3}"
      ]
     },
     "execution_count": 17,
     "metadata": {},
     "output_type": "execute_result"
    }
   ],
   "source": [
    "if BobAction == 0:\n",
    "    if P_E_B1 < 0.3:\n",
    "        omega = omega - B1\n",
    "    if P_E_B2 < 0.3:\n",
    "        omega = omega - B2\n",
    "    if P_E_B3 < 0.3:\n",
    "        omega = omega - B3\n",
    "else:\n",
    "    if P_E_B1 >= 0.3:\n",
    "        omega = omega - B1\n",
    "    if P_E_B2 >= 0.3:\n",
    "        omega = omega - B2\n",
    "    if P_E_B3 >= 0.3:\n",
    "        omega = omega - B3\n",
    "\n",
    "if AliceAction == 0:\n",
    "    if P_E_A1 < 0.3:\n",
    "        omega = omega - A1\n",
    "    if P_E_A2 < 0.3:\n",
    "        omega = omega - A2\n",
    "    if P_E_A3 < 0.3:\n",
    "        omega = omega - A3\n",
    "else:\n",
    "    if P_E_A1 >= 0.3:\n",
    "        omega = omega - A1\n",
    "    if P_E_A2 >= 0.3:\n",
    "        omega = omega - A2\n",
    "    if P_E_A3 >= 0.3:\n",
    "        omega = omega - A3\n",
    "        \n",
    "omega"
   ]
  },
  {
   "cell_type": "code",
   "execution_count": 18,
   "metadata": {},
   "outputs": [
    {
     "name": "stdout",
     "output_type": "stream",
     "text": [
      "0.3333333333333333\n",
      "0\n",
      "0\n",
      "0.3333333333333333\n",
      "0\n",
      "0\n"
     ]
    }
   ],
   "source": [
    "P_E_A1 = len(E&A1&omega)/len(A1&omega) if len(A1&omega) > 0 else 0\n",
    "P_E_A2 = len(E&A2&omega)/len(A2&omega) if len(A2&omega) > 0 else 0\n",
    "P_E_A3 = len(E&A3&omega)/len(A3&omega) if len(A3&omega) > 0 else 0\n",
    "\n",
    "P_E_B1 = len(E&B1&omega)/len(B1&omega) if len(B1&omega) > 0 else 0\n",
    "P_E_B2 = len(E&B2&omega)/len(B2&omega) if len(B2&omega) > 0 else 0\n",
    "P_E_B3 = len(E&B3&omega)/len(B3&omega) if len(B3&omega) > 0 else 0\n",
    "print(P_E_A1)\n",
    "print(P_E_A2)\n",
    "print(P_E_A3)\n",
    "print(P_E_B1)\n",
    "print(P_E_B2)\n",
    "print(P_E_B3)"
   ]
  },
  {
   "cell_type": "code",
   "execution_count": 19,
   "metadata": {},
   "outputs": [
    {
     "name": "stdout",
     "output_type": "stream",
     "text": [
      "Alice sells the asset!\n",
      "Bob sells the asset!\n"
     ]
    }
   ],
   "source": [
    "P_E_A = P_E_A1 \n",
    "P_E_B = P_E_B1\n",
    "if P_E_A >= 0.3:\n",
    "    print(\"Alice sells the asset!\")\n",
    "    AliceAction = 0\n",
    "else:\n",
    "    print(\"Alice buys the asset!\")\n",
    "    AliceAction = 1\n",
    "if P_E_B >= 0.3:\n",
    "    print(\"Bob sells the asset!\")\n",
    "    BobAction = 0\n",
    "else:\n",
    "    print(\"Bob buys the asset!\")\n",
    "    BobAction = 1"
   ]
  },
  {
   "cell_type": "code",
   "execution_count": null,
   "metadata": {},
   "outputs": [],
   "source": []
  }
 ],
 "metadata": {
  "kernelspec": {
   "display_name": "Python 3",
   "language": "python",
   "name": "python3"
  },
  "language_info": {
   "codemirror_mode": {
    "name": "ipython",
    "version": 3
   },
   "file_extension": ".py",
   "mimetype": "text/x-python",
   "name": "python",
   "nbconvert_exporter": "python",
   "pygments_lexer": "ipython3",
   "version": "3.7.4"
  }
 },
 "nbformat": 4,
 "nbformat_minor": 1
}
